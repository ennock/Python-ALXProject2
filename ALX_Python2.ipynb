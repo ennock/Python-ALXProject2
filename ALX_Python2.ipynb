{
  "nbformat": 4,
  "nbformat_minor": 0,
  "metadata": {
    "colab": {
      "provenance": []
    },
    "kernelspec": {
      "name": "python3",
      "display_name": "Python 3"
    },
    "language_info": {
      "name": "python"
    }
  },
  "cells": [
    {
      "cell_type": "code",
      "execution_count": 1,
      "metadata": {
        "id": "4c1MYM_aSKE0"
      },
      "outputs": [],
      "source": [
        "def find_element(arr, x):\n",
        "    for element in arr:\n",
        "        if element == x:\n",
        "            return True\n",
        "    return False"
      ]
    },
    {
      "cell_type": "code",
      "source": [
        "animal_list = [\"Lion\", \"Elephant\", \"Tiger\", \"Giraffe\", \"Zebra\", \"Panda\", \"Kangaroo\", \"Penguin\"]"
      ],
      "metadata": {
        "id": "2Tu7bw_kSd6d"
      },
      "execution_count": 2,
      "outputs": []
    },
    {
      "cell_type": "code",
      "source": [
        "find_element(animal_list , \"Penguin\")\n",
        "\n"
      ],
      "metadata": {
        "colab": {
          "base_uri": "https://localhost:8080/"
        },
        "id": "DiGqaEKpSo-H",
        "outputId": "26fb99f9-9caa-47cb-e6ae-2583c9590425"
      },
      "execution_count": 3,
      "outputs": [
        {
          "output_type": "execute_result",
          "data": {
            "text/plain": [
              "True"
            ]
          },
          "metadata": {},
          "execution_count": 3
        }
      ]
    },
    {
      "cell_type": "markdown",
      "source": [
        "Q2"
      ],
      "metadata": {
        "id": "ZSL8tLYvT5p9"
      }
    },
    {
      "cell_type": "code",
      "source": [
        "def bubble_sort(items):\n",
        "return items\n",
        "for j in range(len(items)-1-i):\n",
        "if items[j] > items[j+1]:\n",
        "\"\"\" Implementation of bubble sort.\"\"\"\n",
        "items[j], items[j+1] = items[j+1], items[j]\n",
        "for i in range(len(items)):"
      ],
      "metadata": {
        "id": "WpYWE7ViT6km"
      },
      "execution_count": null,
      "outputs": []
    },
    {
      "cell_type": "code",
      "source": [
        "def bubble_sort(items):\n",
        "    \"\"\" Implementation of bubble sort.\"\"\"\n",
        "    for i in range(len(items)):\n",
        "      for j in range(len(items)-1-i):\n",
        "        if items[j] > items[j+1]:\n",
        "          items[j], items[j+1] = items[j+1], items[j]\n",
        "    return items\n",
        "\n",
        "\n"
      ],
      "metadata": {
        "id": "YTYHXudcUKa0"
      },
      "execution_count": 4,
      "outputs": []
    },
    {
      "cell_type": "code",
      "source": [
        "def bubble_sort(items):\n",
        "    \"\"\"Implementation of bubble sort.\"\"\"\n",
        "    for i in range(len(items)):\n",
        "        for j in range(len(items) - 1 - i):\n",
        "            if items[j] > items[j + 1]:\n",
        "                items[j], items[j + 1] = items[j + 1], items[j]\n",
        "    return items\n",
        "\n",
        "# Input list\n",
        "unsorted_list = [64, 34, 25, 12, 22, 11, 90]\n",
        "\n",
        "# Sort the list\n",
        "sorted_list = bubble_sort(unsorted_list)\n",
        "\n",
        "# Print the output\n",
        "print(sorted_list)  # Output: [11, 12, 22, 25, 34, 64, 90]\n"
      ],
      "metadata": {
        "colab": {
          "base_uri": "https://localhost:8080/"
        },
        "id": "_XtWKXFpYBPF",
        "outputId": "e0045eda-eec3-4ace-f6bd-b81b948e0734"
      },
      "execution_count": 16,
      "outputs": [
        {
          "output_type": "stream",
          "name": "stdout",
          "text": [
            "[11, 12, 22, 25, 34, 64, 90]\n"
          ]
        }
      ]
    },
    {
      "cell_type": "markdown",
      "source": [
        "Q3"
      ],
      "metadata": {
        "id": "olZAN1dnZ3LM"
      }
    },
    {
      "cell_type": "code",
      "source": [
        "def deposit(self, amount):\n",
        " self.balance += amount\n",
        "class BankAccount:\n",
        " def __init__(self, balance):\n",
        " self.balance = balance\n"
      ],
      "metadata": {
        "id": "LrZGeskJXREN"
      },
      "execution_count": null,
      "outputs": []
    },
    {
      "cell_type": "code",
      "source": [
        "class BankAccount:\n",
        "  def __init__(self, balance):\n",
        "    self.balance = balance\n",
        "  def deposit(self, amount):\n",
        "      self.balance += amount"
      ],
      "metadata": {
        "id": "tt1tumifaAQK"
      },
      "execution_count": 17,
      "outputs": []
    },
    {
      "cell_type": "code",
      "source": [
        "new_account = BankAccount(100)\n",
        "new_account.deposit(50)\n",
        "print(\"Updated balance:\", new_account.balance)"
      ],
      "metadata": {
        "colab": {
          "base_uri": "https://localhost:8080/"
        },
        "id": "ZN_1-Kbaapel",
        "outputId": "af3ebb97-c8bb-41d0-8d19-f5584799bd92"
      },
      "execution_count": 18,
      "outputs": [
        {
          "output_type": "stream",
          "name": "stdout",
          "text": [
            "Updated balance: 150\n"
          ]
        }
      ]
    },
    {
      "cell_type": "code",
      "source": [
        "account=BankAccount(100)\n",
        "account.deposit(50)\n",
        "print(account.balance)"
      ],
      "metadata": {
        "colab": {
          "base_uri": "https://localhost:8080/"
        },
        "id": "Ge_ERS6bcTRT",
        "outputId": "e8b0c9b5-f76f-4e57-8a26-18a03beba540"
      },
      "execution_count": 19,
      "outputs": [
        {
          "output_type": "stream",
          "name": "stdout",
          "text": [
            "150\n"
          ]
        }
      ]
    },
    {
      "cell_type": "markdown",
      "source": [
        "Q4"
      ],
      "metadata": {
        "id": "UW-_aygefIWc"
      }
    },
    {
      "cell_type": "code",
      "source": [
        "if len(s) == 0:\n",
        "return s\n",
        "return r(s[1:]) + s[0]\n",
        "def r(s)"
      ],
      "metadata": {
        "id": "zOp8Ex3KfJyC"
      },
      "execution_count": null,
      "outputs": []
    },
    {
      "cell_type": "code",
      "source": [
        "def r(s):\n",
        "  if len(s)==0:\n",
        "\n",
        "    return s\n",
        "  return r(s[1:]) + s[0]\n",
        "\n"
      ],
      "metadata": {
        "id": "K_1KMNCgfS5z"
      },
      "execution_count": 23,
      "outputs": []
    },
    {
      "cell_type": "code",
      "source": [
        "\n",
        "print(r(\"programming\"))"
      ],
      "metadata": {
        "colab": {
          "base_uri": "https://localhost:8080/"
        },
        "id": "lPrz8cjxfrOt",
        "outputId": "c9438305-9c5a-46e7-ea4d-16d0d3e42b71"
      },
      "execution_count": 26,
      "outputs": [
        {
          "output_type": "stream",
          "name": "stdout",
          "text": [
            "gnimmargorp\n"
          ]
        }
      ]
    },
    {
      "cell_type": "markdown",
      "source": [
        "Q5"
      ],
      "metadata": {
        "id": "rUGxGPUBhLtj"
      }
    },
    {
      "cell_type": "code",
      "source": [
        "numbers = [-2, 5, -9, 8, -1, 10]\n",
        "result = filter(lambda x: x >= 0, numbers)\n",
        "print(list(result))\n"
      ],
      "metadata": {
        "colab": {
          "base_uri": "https://localhost:8080/"
        },
        "id": "vrX7br-3gSQa",
        "outputId": "32f3241f-2786-4a60-883e-55beaa567dbb"
      },
      "execution_count": 27,
      "outputs": [
        {
          "output_type": "stream",
          "name": "stdout",
          "text": [
            "[5, 8, 10]\n"
          ]
        }
      ]
    },
    {
      "cell_type": "markdown",
      "source": [
        "Q6"
      ],
      "metadata": {
        "id": "uzw8gRUOhrQq"
      }
    },
    {
      "cell_type": "code",
      "source": [
        "def __init__(self, radius):\n",
        "self.radius = radius\n",
        "return 2 * 3.14159 * self.radius\n",
        "class Circle:\n",
        "def circumference(self):"
      ],
      "metadata": {
        "id": "Ky95RJc-hsGi"
      },
      "execution_count": null,
      "outputs": []
    },
    {
      "cell_type": "code",
      "source": [
        "class Circle:\n",
        "  def __init__(self, radius):\n",
        "    self.radius = radius\n",
        "  def circumference(self):\n",
        "    return 2 * 3.14159 * self.radius\n"
      ],
      "metadata": {
        "id": "URf3-dS8hwZA"
      },
      "execution_count": 36,
      "outputs": []
    },
    {
      "cell_type": "code",
      "source": [
        "\n",
        "circle = Circle(3)\n",
        "circumference = circle.circumference()"
      ],
      "metadata": {
        "id": "uphI1Ir7iBCN"
      },
      "execution_count": 37,
      "outputs": []
    },
    {
      "cell_type": "code",
      "source": [
        "print(circumference)"
      ],
      "metadata": {
        "colab": {
          "base_uri": "https://localhost:8080/"
        },
        "id": "7zN1j5nOj9TQ",
        "outputId": "1f78c525-19bd-4723-a10f-363e2294fd09"
      },
      "execution_count": 38,
      "outputs": [
        {
          "output_type": "stream",
          "name": "stdout",
          "text": [
            "18.849539999999998\n"
          ]
        }
      ]
    },
    {
      "cell_type": "code",
      "source": [],
      "metadata": {
        "id": "5ZdWXDjjkMyF"
      },
      "execution_count": null,
      "outputs": []
    },
    {
      "cell_type": "markdown",
      "source": [
        "Q7"
      ],
      "metadata": {
        "id": "pwrIgj8hkNoD"
      }
    },
    {
      "cell_type": "code",
      "source": [
        "return 2 * (self.width + self.height)\n",
        "def perimeter(self):\n",
        "return self.width * self.height\n",
        "class Rectangle:\n",
        "def __init__(self, width, height):\n",
        "self.width = width\n",
        "self.height = height\n",
        "def area(self):\n",
        "\n",
        "rect = Rectangle(3, 4)\n",
        "print(\"Area:\", rect.area(), \"Perimeter:\", rect.perimeter())"
      ],
      "metadata": {
        "id": "OX8CUiiZjHcI"
      },
      "execution_count": null,
      "outputs": []
    },
    {
      "cell_type": "markdown",
      "source": [
        "Q8"
      ],
      "metadata": {
        "id": "A1RFeNcckoLI"
      }
    },
    {
      "cell_type": "code",
      "source": [
        "print(list(result))\n",
        "result = map(lambda x: x**2, numbers)\n",
        "numbers = [1, 2, 3, 4, 5]"
      ],
      "metadata": {
        "id": "0UhTHgZIkpSf"
      },
      "execution_count": null,
      "outputs": []
    },
    {
      "cell_type": "code",
      "source": [
        "numbers = [1, 2, 3, 4, 5]\n",
        "result = map(lambda x: x**2, numbers)\n",
        "print(list(result))"
      ],
      "metadata": {
        "colab": {
          "base_uri": "https://localhost:8080/"
        },
        "id": "JWli_wWlkt8c",
        "outputId": "0923ce1a-9ce0-4bb6-c2ed-752bef11a2e8"
      },
      "execution_count": 39,
      "outputs": [
        {
          "output_type": "stream",
          "name": "stdout",
          "text": [
            "[1, 4, 9, 16, 25]\n"
          ]
        }
      ]
    },
    {
      "cell_type": "code",
      "source": [],
      "metadata": {
        "id": "8HZDa_vJk1EA"
      },
      "execution_count": null,
      "outputs": []
    },
    {
      "cell_type": "markdown",
      "source": [
        "Q9"
      ],
      "metadata": {
        "id": "Bv2rhCpHk9jc"
      }
    },
    {
      "cell_type": "code",
      "source": [
        "class ExampleClass:\n",
        "def __init__(self,value):\n",
        "    self.value = value\n",
        "def get_value(self):\n",
        "return self.value"
      ],
      "metadata": {
        "id": "pHwezerkk-rL"
      },
      "execution_count": null,
      "outputs": []
    },
    {
      "cell_type": "code",
      "source": [],
      "metadata": {
        "id": "2LIC4NlWnygx"
      },
      "execution_count": null,
      "outputs": []
    },
    {
      "cell_type": "markdown",
      "source": [
        "Q10"
      ],
      "metadata": {
        "id": "c5Fpx7FJnzO2"
      }
    },
    {
      "cell_type": "code",
      "source": [
        "class Shape:\n",
        "    def __init__(self, name):\n",
        "        self.name = name\n",
        "\n",
        "class Circle(Shape):\n",
        "    def __init__(self, radius):\n",
        "        super().__init__(\"Circle\")\n",
        "        self.radius = radius\n",
        "\n",
        "    def area(self):\n",
        "        return 3.14 * self.radius * self.radius\n",
        "class Square(Shape):\n",
        "    def __init__(self, side):\n",
        "        super().__init__(\"Square\")\n",
        "        self.side = side\n",
        "\n",
        "    def area(self):\n",
        "        return self.side * self.side\n",
        "\n",
        "circle = Circle(3)\n",
        "square = Square(4)\n",
        "total_area = circle.area + square.area\n",
        "print(\"Total Area:\", total_area)"
      ],
      "metadata": {
        "colab": {
          "base_uri": "https://localhost:8080/",
          "height": 227
        },
        "id": "Q-WB54oBn0Qq",
        "outputId": "24b80c1f-8d02-4d07-d02e-0cd5894aa82c"
      },
      "execution_count": 40,
      "outputs": [
        {
          "output_type": "error",
          "ename": "TypeError",
          "evalue": "unsupported operand type(s) for +: 'method' and 'method'",
          "traceback": [
            "\u001b[0;31m---------------------------------------------------------------------------\u001b[0m",
            "\u001b[0;31mTypeError\u001b[0m                                 Traceback (most recent call last)",
            "\u001b[0;32m<ipython-input-40-3a50ff353980>\u001b[0m in \u001b[0;36m<cell line: 22>\u001b[0;34m()\u001b[0m\n\u001b[1;32m     20\u001b[0m \u001b[0mcircle\u001b[0m \u001b[0;34m=\u001b[0m \u001b[0mCircle\u001b[0m\u001b[0;34m(\u001b[0m\u001b[0;36m3\u001b[0m\u001b[0;34m)\u001b[0m\u001b[0;34m\u001b[0m\u001b[0;34m\u001b[0m\u001b[0m\n\u001b[1;32m     21\u001b[0m \u001b[0msquare\u001b[0m \u001b[0;34m=\u001b[0m \u001b[0mSquare\u001b[0m\u001b[0;34m(\u001b[0m\u001b[0;36m4\u001b[0m\u001b[0;34m)\u001b[0m\u001b[0;34m\u001b[0m\u001b[0;34m\u001b[0m\u001b[0m\n\u001b[0;32m---> 22\u001b[0;31m \u001b[0mtotal_area\u001b[0m \u001b[0;34m=\u001b[0m \u001b[0mcircle\u001b[0m\u001b[0;34m.\u001b[0m\u001b[0marea\u001b[0m \u001b[0;34m+\u001b[0m \u001b[0msquare\u001b[0m\u001b[0;34m.\u001b[0m\u001b[0marea\u001b[0m\u001b[0;34m\u001b[0m\u001b[0;34m\u001b[0m\u001b[0m\n\u001b[0m\u001b[1;32m     23\u001b[0m \u001b[0mprint\u001b[0m\u001b[0;34m(\u001b[0m\u001b[0;34m\"Total Area:\"\u001b[0m\u001b[0;34m,\u001b[0m \u001b[0mtotal_area\u001b[0m\u001b[0;34m)\u001b[0m\u001b[0;34m\u001b[0m\u001b[0;34m\u001b[0m\u001b[0m\n",
            "\u001b[0;31mTypeError\u001b[0m: unsupported operand type(s) for +: 'method' and 'method'"
          ]
        }
      ]
    }
  ]
}